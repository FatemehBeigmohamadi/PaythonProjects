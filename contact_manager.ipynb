{
 "cells": [
  {
   "cell_type": "code",
   "execution_count": null,
   "metadata": {},
   "outputs": [],
   "source": [
    "import json\n",
    "\n",
    "class ContactManager:\n",
    "    def __init__(self,path='-'):\n",
    "        print('loading contacts...')\n",
    "        self.contact_list = []\n",
    "        if path != '-':\n",
    "            with open(path , 'r') as f:\n",
    "                data = f.read()\n",
    "                self.contact_list = json.loads(data)\n",
    "            print('loaded...')\n",
    "    \n",
    "    def add(self,name,number):\n",
    "        self.contact_list.append({\n",
    "            'name' : name,\n",
    "            'number': number\n",
    "        })\n",
    "\n",
    "    def search(self, name):\n",
    "        result = []\n",
    "        for contact in self.contact_list:\n",
    "            if name.lower() in contact['name'].lower():\n",
    "                result.append(contact)\n",
    "\n",
    "        print(result)\n",
    "\n",
    "    def backup(self):\n",
    "        with open('./contacts_list.json', 'w') as f:\n",
    "            f.write(json.dumps(self.contact_list))\n",
    "    \n",
    "    def print(self):\n",
    "        print(f'your contacts are {self.contact_list}')\n",
    "\n",
    "\n",
    "\n"
   ]
  },
  {
   "cell_type": "code",
   "execution_count": null,
   "metadata": {},
   "outputs": [],
   "source": [
    "my_contacts=ContactManager('./contacts_list.json')\n",
    "my_contacts.print()"
   ]
  },
  {
   "cell_type": "code",
   "execution_count": null,
   "metadata": {},
   "outputs": [],
   "source": [
    "my_contacts.add('sara' , 1234)\n",
    "my_contacts.print()"
   ]
  },
  {
   "cell_type": "code",
   "execution_count": null,
   "metadata": {},
   "outputs": [],
   "source": [
    "my_contacts.search('sa')"
   ]
  },
  {
   "cell_type": "code",
   "execution_count": 44,
   "metadata": {},
   "outputs": [],
   "source": [
    "my_contacts.backup()"
   ]
  },
  {
   "cell_type": "code",
   "execution_count": null,
   "metadata": {},
   "outputs": [],
   "source": []
  }
 ],
 "metadata": {
  "kernelspec": {
   "display_name": "Python 3",
   "language": "python",
   "name": "python3"
  },
  "language_info": {
   "codemirror_mode": {
    "name": "ipython",
    "version": 3
   },
   "file_extension": ".py",
   "mimetype": "text/x-python",
   "name": "python",
   "nbconvert_exporter": "python",
   "pygments_lexer": "ipython3",
   "version": "3.13.0"
  }
 },
 "nbformat": 4,
 "nbformat_minor": 2
}
